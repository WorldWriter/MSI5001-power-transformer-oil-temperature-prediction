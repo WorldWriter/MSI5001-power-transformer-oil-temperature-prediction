{
 "cells": [
  {
   "cell_type": "markdown",
   "id": "869e5095",
   "metadata": {},
   "source": [
    "# Assignment 5\n",
    "\n",
    "Apart from Supervised Learning, there is also the subset of Unsupervised Learning algorithms that can be very helpful to make sense of data. Unlike the former, unsupervised learning is when a model is trained without a target (y) to predict for. \n",
    "Instead, an attempt is made to subdivide the data based on the features present and compartmentalise it into categories that can be useful to understand. This is especially helpful to make sense of data - and while it is not always easy to interpret the results; that is also an important goal to aim for. \n",
    "\n",
    "This dataset reflects that aim with its features on \n",
    "- ID (Customer id)\n",
    "- Sex (Gender)\n",
    "- Marital Status\n",
    "- Age\n",
    "- Education (level of schooling)\n",
    "- Income\n",
    "- Occupation\n",
    "\n",
    "By analysing the data; we aim to understand\n",
    "- How clustering can be employed to understand data\n",
    "- Working with K-Means Clustering\n",
    "- Interpreting and finding the best results"
   ]
  },
  {
   "cell_type": "code",
   "execution_count": 1,
   "id": "49c442ae",
   "metadata": {},
   "outputs": [],
   "source": [
    "# Ensure that the libraries below have been installed via pip/ pip3 (windows/mac)\n",
    "import pandas as pd \n",
    "import numpy as np\n",
    "from sklearn.preprocessing import StandardScaler \n",
    "from sklearn.cluster import KMeans\n",
    "from sklearn.metrics import silhouette_score\n",
    "import matplotlib.pyplot as plt\n",
    "# Run this cell before executing all cells below"
   ]
  },
  {
   "cell_type": "markdown",
   "id": "1597a5c0",
   "metadata": {},
   "source": [
    "### Question 1\n",
    "When forming clusters - it is important to first ensure (especially with a relatively small dataset) that the features used are meaningful to the clusters created in the data.  \n",
    "\n",
    "Goal: To remove redundant columns from the dataset.\n",
    "\n",
    "What to do: Drop the ID column from the dataset using the `.drop` method in dataframes before clustering the data.\n",
    "\n",
    "Hint: Remember to set the axis parameter to drop correctly!"
   ]
  },
  {
   "cell_type": "code",
   "execution_count": 3,
   "id": "e262eecb",
   "metadata": {},
   "outputs": [
    {
     "data": {
      "text/html": [
       "<div>\n",
       "<style scoped>\n",
       "    .dataframe tbody tr th:only-of-type {\n",
       "        vertical-align: middle;\n",
       "    }\n",
       "\n",
       "    .dataframe tbody tr th {\n",
       "        vertical-align: top;\n",
       "    }\n",
       "\n",
       "    .dataframe thead th {\n",
       "        text-align: right;\n",
       "    }\n",
       "</style>\n",
       "<table border=\"1\" class=\"dataframe\">\n",
       "  <thead>\n",
       "    <tr style=\"text-align: right;\">\n",
       "      <th></th>\n",
       "      <th>Sex</th>\n",
       "      <th>Marital status</th>\n",
       "      <th>Age</th>\n",
       "      <th>Education</th>\n",
       "      <th>Income</th>\n",
       "      <th>Occupation</th>\n",
       "    </tr>\n",
       "  </thead>\n",
       "  <tbody>\n",
       "    <tr>\n",
       "      <th>0</th>\n",
       "      <td>0</td>\n",
       "      <td>0</td>\n",
       "      <td>67</td>\n",
       "      <td>2</td>\n",
       "      <td>124670</td>\n",
       "      <td>1</td>\n",
       "    </tr>\n",
       "    <tr>\n",
       "      <th>1</th>\n",
       "      <td>1</td>\n",
       "      <td>1</td>\n",
       "      <td>22</td>\n",
       "      <td>1</td>\n",
       "      <td>150773</td>\n",
       "      <td>1</td>\n",
       "    </tr>\n",
       "    <tr>\n",
       "      <th>2</th>\n",
       "      <td>0</td>\n",
       "      <td>0</td>\n",
       "      <td>49</td>\n",
       "      <td>1</td>\n",
       "      <td>89210</td>\n",
       "      <td>0</td>\n",
       "    </tr>\n",
       "    <tr>\n",
       "      <th>3</th>\n",
       "      <td>0</td>\n",
       "      <td>0</td>\n",
       "      <td>45</td>\n",
       "      <td>1</td>\n",
       "      <td>171565</td>\n",
       "      <td>1</td>\n",
       "    </tr>\n",
       "    <tr>\n",
       "      <th>4</th>\n",
       "      <td>0</td>\n",
       "      <td>0</td>\n",
       "      <td>53</td>\n",
       "      <td>1</td>\n",
       "      <td>149031</td>\n",
       "      <td>1</td>\n",
       "    </tr>\n",
       "  </tbody>\n",
       "</table>\n",
       "</div>"
      ],
      "text/plain": [
       "   Sex  Marital status  Age  Education  Income  Occupation\n",
       "0    0               0   67          2  124670           1\n",
       "1    1               1   22          1  150773           1\n",
       "2    0               0   49          1   89210           0\n",
       "3    0               0   45          1  171565           1\n",
       "4    0               0   53          1  149031           1"
      ]
     },
     "execution_count": 3,
     "metadata": {},
     "output_type": "execute_result"
    }
   ],
   "source": [
    "filename = \"customer_data.csv\" # change the filepath where necessary\n",
    "\n",
    "def drop_id(filepath):\n",
    "    df = pd.read_csv(filepath)\n",
    "    ### Start of Code ###\n",
    "    df = df.drop(columns=['ID'])\n",
    "    ### End of Code ###\n",
    "    return df\n",
    "\n",
    "drop_id(filename).head()"
   ]
  },
  {
   "cell_type": "markdown",
   "id": "f9d63591",
   "metadata": {},
   "source": [
    "Expected Result:\n",
    "``` \n",
    "Sex  Marital status  Age  Education  Income  Occupation\n",
    "0    0               0   67          2  124670           1\n",
    "1    1               1   22          1  150773           1\n",
    "2    0               0   49          1   89210           0\n",
    "3    0               0   45          1  171565           1\n",
    "4    0               0   53          1  149031           1\n",
    "```"
   ]
  },
  {
   "cell_type": "markdown",
   "id": "81da4c4d",
   "metadata": {},
   "source": [
    "### Question 2\n",
    "\n",
    "The data has fortunately already been encoded - which can be helpful but also somewhat problematic in that we don't *know* what the original values were. Nonetheless, this means that an important step in the data analysis process has been performed - and we can now focus on the other step - standardisation.\n",
    "\n",
    "Goal: To standardise the necessary columns in the data before forming clusters.\n",
    "\n",
    "What to do: Use the given “scaler” function to standardise **ONLY** the columns with continuous numerical data in the dataset.\n",
    "\n",
    "ChatGPT Prompt: When categorical data is encoded; is it ok to standardise the resulting numbers or is it preferred not to? Why?\n"
   ]
  },
  {
   "cell_type": "code",
   "execution_count": 6,
   "id": "93109f7e",
   "metadata": {},
   "outputs": [
    {
     "data": {
      "text/html": [
       "<div>\n",
       "<style scoped>\n",
       "    .dataframe tbody tr th:only-of-type {\n",
       "        vertical-align: middle;\n",
       "    }\n",
       "\n",
       "    .dataframe tbody tr th {\n",
       "        vertical-align: top;\n",
       "    }\n",
       "\n",
       "    .dataframe thead th {\n",
       "        text-align: right;\n",
       "    }\n",
       "</style>\n",
       "<table border=\"1\" class=\"dataframe\">\n",
       "  <thead>\n",
       "    <tr style=\"text-align: right;\">\n",
       "      <th></th>\n",
       "      <th>Sex</th>\n",
       "      <th>Marital status</th>\n",
       "      <th>Age</th>\n",
       "      <th>Education</th>\n",
       "      <th>Income</th>\n",
       "      <th>Occupation</th>\n",
       "    </tr>\n",
       "  </thead>\n",
       "  <tbody>\n",
       "    <tr>\n",
       "      <th>0</th>\n",
       "      <td>0</td>\n",
       "      <td>0</td>\n",
       "      <td>2.653614</td>\n",
       "      <td>2</td>\n",
       "      <td>0.097524</td>\n",
       "      <td>1</td>\n",
       "    </tr>\n",
       "    <tr>\n",
       "      <th>1</th>\n",
       "      <td>1</td>\n",
       "      <td>1</td>\n",
       "      <td>-1.187132</td>\n",
       "      <td>1</td>\n",
       "      <td>0.782654</td>\n",
       "      <td>1</td>\n",
       "    </tr>\n",
       "    <tr>\n",
       "      <th>2</th>\n",
       "      <td>0</td>\n",
       "      <td>0</td>\n",
       "      <td>1.117316</td>\n",
       "      <td>1</td>\n",
       "      <td>-0.833202</td>\n",
       "      <td>0</td>\n",
       "    </tr>\n",
       "    <tr>\n",
       "      <th>3</th>\n",
       "      <td>0</td>\n",
       "      <td>0</td>\n",
       "      <td>0.775916</td>\n",
       "      <td>1</td>\n",
       "      <td>1.328386</td>\n",
       "      <td>1</td>\n",
       "    </tr>\n",
       "    <tr>\n",
       "      <th>4</th>\n",
       "      <td>0</td>\n",
       "      <td>0</td>\n",
       "      <td>1.458716</td>\n",
       "      <td>1</td>\n",
       "      <td>0.736932</td>\n",
       "      <td>1</td>\n",
       "    </tr>\n",
       "  </tbody>\n",
       "</table>\n",
       "</div>"
      ],
      "text/plain": [
       "   Sex  Marital status       Age  Education    Income  Occupation\n",
       "0    0               0  2.653614          2  0.097524           1\n",
       "1    1               1 -1.187132          1  0.782654           1\n",
       "2    0               0  1.117316          1 -0.833202           0\n",
       "3    0               0  0.775916          1  1.328386           1\n",
       "4    0               0  1.458716          1  0.736932           1"
      ]
     },
     "execution_count": 6,
     "metadata": {},
     "output_type": "execute_result"
    }
   ],
   "source": [
    "df = drop_id(filename)\n",
    "\n",
    "def scaler(data: pd.DataFrame, columns_to_standardise: list):\n",
    "    # takes in a dataframe and a list\n",
    "    data = data.copy()\n",
    "    std_scaler = StandardScaler()\n",
    "    standardized_values = std_scaler.fit_transform(data[columns_to_standardise])\n",
    "    standardized_df = pd.DataFrame(standardized_values, columns=columns_to_standardise, index=data.index)\n",
    "    data[columns_to_standardise] = standardized_df\n",
    "    return data\n",
    "\n",
    "def standardise_cols(df):\n",
    "    continuous_cols = ['Age', 'Income'] # to change (there should be 2 columns in the data!)\n",
    "    ### Start of Code ###\n",
    "    df = scaler(df, continuous_cols)\n",
    "\n",
    "    ### End of Code ###\n",
    "    return df\n",
    "\n",
    "standardise_cols(df).head()"
   ]
  },
  {
   "cell_type": "markdown",
   "id": "506ea72b",
   "metadata": {},
   "source": [
    "Expected Result:\n",
    "```\n",
    "Sex  Marital status       Age  Education    Income  Occupation\n",
    "0    0               0  2.653614          2  0.097524           1\n",
    "1    1               1 -1.187132          1  0.782654           1\n",
    "2    0               0  1.117316          1 -0.833202           0\n",
    "3    0               0  0.775916          1  1.328386           1\n",
    "4    0               0  1.458716          1  0.736932           1\n",
    "```\n"
   ]
  },
  {
   "cell_type": "markdown",
   "id": "f66f469d",
   "metadata": {},
   "source": [
    "### Question 3\n",
    "\n",
    "With the data now being standardised - which is especially important for a distance based clustering algorithm like K Means, we can now move onto clustering the data!\n",
    "\n",
    "Goal: Train a k-means clustering model on the standardised dataset\n",
    "\n",
    "What to do: Use the `KMeans()` function from sklearn’s library to train a model for clustering. Use the value of k from the 2nd parameter of the `cluster_data` function. Return BOTH the model AND the model's results when it is fitted on the dataset\n",
    "\n",
    "Hint: Much like for other models, we can use the `fit_predict` method of the model to get the clustering results\n",
    "\n"
   ]
  },
  {
   "cell_type": "code",
   "execution_count": 7,
   "id": "6a38e02b",
   "metadata": {},
   "outputs": [
    {
     "data": {
      "text/plain": [
       "(KMeans(n_clusters=5, random_state=42),\n",
       " array([1, 4, 3, ..., 3, 3, 3], shape=(2000,), dtype=int32))"
      ]
     },
     "execution_count": 7,
     "metadata": {},
     "output_type": "execute_result"
    }
   ],
   "source": [
    "df_std = standardise_cols(df)\n",
    "\n",
    "def cluster_data(df, k = 5):\n",
    "    model = KMeans(n_clusters = k, random_state = 42)\n",
    "    res = None\n",
    "    ### Start of Code ###\n",
    "    res = model.fit_predict(df)\n",
    "    ### End of Code ###\n",
    "    return model, res\n",
    "\n",
    "cluster_data(df_std)"
   ]
  },
  {
   "cell_type": "markdown",
   "id": "639c24c1",
   "metadata": {},
   "source": [
    "Expected Result:\n",
    "```\n",
    "(KMeans(n_clusters=5, random_state=42), array([1, 4, 3, ..., 3, 3, 3]))\n",
    "```"
   ]
  },
  {
   "cell_type": "markdown",
   "id": "3a9963f3",
   "metadata": {},
   "source": [
    "### Question 4\n",
    "\n",
    "Of course, we cannot simply use any value of k once and deem that to be the best one (unless it is known in advance the set number of k's to be had). Instead, multiple values of k should be analysed and the performance of clustering measured as a result. We can do this by looking at the within cluster sum of squares error.\n",
    "\n",
    "Goal: Evaluate different values of k on the dataset in a visual plot\n",
    "\n",
    "What to do: Run the function from question 3 (a correct implementation has been given on Coursemology) with different values of k from k = 2 to k = 9 (inclusive) on the data. \n",
    "\n",
    "Get the within cluster sum of squared errors for each value of k and upload the resulting plot using the given `plot_WCSS` function. \n",
    "\n",
    "Hint: From the resulting model, you can get the within cluster sum of squared errors using the `inertia_` attribute of the model\n"
   ]
  },
  {
   "cell_type": "code",
   "execution_count": 9,
   "id": "68a6ef0c",
   "metadata": {},
   "outputs": [
    {
     "data": {
      "image/png": "[encoded data removed]",
      "text/plain": [
       "<Figure size 640x480 with 1 Axes>"
      ]
     },
     "metadata": {},
     "output_type": "display_data"
    }
   ],
   "source": [
    "def plot_WCSS(x_vals, y_vals):\n",
    "    plt.plot(x_vals, y_vals, marker = 'o')\n",
    "    plt.ylabel(\"WCSS\")\n",
    "    plt.xlabel(\"No. of Clusters\")\n",
    "    plt.title(\"Within Cluster Sum of Squared Errors v Number of Clusters\")\n",
    "    plt.show()\n",
    "\n",
    "def create_plot(df):\n",
    "    start_k, end_k = 2, 9\n",
    "    x_vals = [] # add values of k\n",
    "    y_vals = [] # add within sum of square results\n",
    "    ### Start of Code ###\n",
    "    # 遍历k从2到9\n",
    "    for k in range(start_k, end_k + 1):\n",
    "        # 训练K-Means模型\n",
    "        model, res = cluster_data(df, k)\n",
    "        \n",
    "        # 获取WCSS（簇内平方和）\n",
    "        wcss = model.inertia_\n",
    "        \n",
    "        # 记录结果\n",
    "        x_vals.append(k)\n",
    "        y_vals.append(wcss)\n",
    "    \n",
    "    # 绘制图表\n",
    "    plot_WCSS(x_vals, y_vals)\n",
    "\n",
    "\n",
    "\n",
    "    ### End of Code ###\n",
    "    return\n",
    "\n",
    "create_plot(df_std)"
   ]
  },
  {
   "cell_type": "markdown",
   "id": "a76448ca",
   "metadata": {},
   "source": []
  },
  {
   "cell_type": "markdown",
   "id": "361fb976",
   "metadata": {},
   "source": [
    "### Question 5\n",
    "\n",
    "While plots are indeed useful - they can also be subjective at times, and it can be preferable to compare the results interpreted from a plot with more statistical measures of evidence\n",
    "\n",
    "Goal: Re-evaluate the model performance using a numerical metric\n",
    "\n",
    "What to do: Run the `silhouette_score()` function from sklearn’s library on the values of k from 2 to 9 and return the best performing value of k based on the silhouette score.  How does the answer here compare to your judgement based on the plot from Q4?\n",
    "\n",
    "Hint: `silhouette_score` takes in 2 parameters before returning the score; the actual features (X) and the labels based on the results of k means\n"
   ]
  },
  {
   "cell_type": "code",
   "execution_count": null,
   "id": "2e3d9922",
   "metadata": {},
   "outputs": [],
   "source": [
    "def best_k(df):\n",
    "    start_k, end_k = 2, 9\n",
    "    scores = []\n",
    "    X = df.values # for use in sihouette score fn\n",
    "    ### Start of Code ###\n",
    "\n",
    "\n",
    "\n",
    "\n",
    "    ### End of Code ###\n",
    "    return start_k + np.argmax(scores) # add to start_k since 0th index is val of start_k\n",
    "\n",
    "best_k(df_std)"
   ]
  },
  {
   "cell_type": "markdown",
   "id": "efe5b0ff",
   "metadata": {},
   "source": [
    "Expected Result:\n",
    "\n",
    "```2```"
   ]
  }
 ],
 "metadata": {
  "kernelspec": {
   "display_name": "base",
   "language": "python",
   "name": "python3"
  },
  "language_info": {
   "codemirror_mode": {
    "name": "ipython",
    "version": 3
   },
   "file_extension": ".py",
   "mimetype": "text/x-python",
   "name": "python",
   "nbconvert_exporter": "python",
   "pygments_lexer": "ipython3",
   "version": "3.13.2"
  }
 },
 "nbformat": 4,
 "nbformat_minor": 5
}
